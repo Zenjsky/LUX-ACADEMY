{
 "cells": [
  {
   "cell_type": "code",
   "execution_count": 156,
   "id": "d44ec1d5-7caf-4c40-8ecd-286417ed9850",
   "metadata": {},
   "outputs": [],
   "source": [
    "import pandas as pd"
   ]
  },
  {
   "cell_type": "code",
   "execution_count": 157,
   "id": "c78b942f-c719-4ac8-903e-89b171b714c2",
   "metadata": {},
   "outputs": [],
   "source": [
    "import numpy as ny"
   ]
  },
  {
   "cell_type": "code",
   "execution_count": 158,
   "id": "d3124031-545a-4f2d-8718-b2387583e282",
   "metadata": {},
   "outputs": [],
   "source": [
    "df = pd.read_csv('Desktop/Weather Data.csv')"
   ]
  },
  {
   "cell_type": "code",
   "execution_count": 159,
   "id": "79655362-a65f-4ae5-b4bb-e12e5fcdef9d",
   "metadata": {},
   "outputs": [
    {
     "name": "stdout",
     "output_type": "stream",
     "text": [
      "       Date/Time  Temp_C  Dew Point Temp_C  Rel Hum_%  Wind Speed_km/h  \\\n",
      "0  1/1/2012 0:00    -1.8              -3.9         86                4   \n",
      "1  1/1/2012 1:00    -1.8              -3.7         87                4   \n",
      "2  1/1/2012 2:00    -1.8              -3.4         89                7   \n",
      "3  1/1/2012 3:00    -1.5              -3.2         88                6   \n",
      "4  1/1/2012 4:00    -1.5              -3.3         88                7   \n",
      "\n",
      "   Visibility_km  Press_kPa               Weather  \n",
      "0            8.0     101.24                   Fog  \n",
      "1            8.0     101.24                   Fog  \n",
      "2            4.0     101.26  Freezing Drizzle,Fog  \n",
      "3            4.0     101.27  Freezing Drizzle,Fog  \n",
      "4            4.8     101.23                   Fog  \n"
     ]
    }
   ],
   "source": [
    "print(df.head())"
   ]
  },
  {
   "cell_type": "code",
   "execution_count": 160,
   "id": "d77f5179-8724-46b1-9ca3-6dce0b4e0fe8",
   "metadata": {},
   "outputs": [
    {
     "name": "stdout",
     "output_type": "stream",
     "text": [
      "Records with clear weather:\n",
      "              Date/Time  Temp_C  Dew Point Temp_C  Rel Hum_%  Wind Speed_km/h  \\\n",
      "67      1/3/2012 19:00   -16.9             -24.8         50               24   \n",
      "114     1/5/2012 18:00    -7.1             -14.4         56               11   \n",
      "115     1/5/2012 19:00    -9.2             -15.4         61                7   \n",
      "116     1/5/2012 20:00    -9.8             -15.7         62                9   \n",
      "117     1/5/2012 21:00    -9.0             -14.8         63               13   \n",
      "...                ...     ...               ...        ...              ...   \n",
      "8646   12/26/2012 6:00   -13.4             -14.8         89                4   \n",
      "8698  12/28/2012 10:00    -6.1              -8.6         82               19   \n",
      "8713   12/29/2012 1:00   -11.9             -13.6         87               11   \n",
      "8714   12/29/2012 2:00   -11.8             -13.1         90               13   \n",
      "8756  12/30/2012 20:00   -13.8             -16.5         80               24   \n",
      "\n",
      "      Visibility_km  Press_kPa Weather  \n",
      "67             25.0     101.74   Clear  \n",
      "114            25.0     100.71   Clear  \n",
      "115            25.0     100.80   Clear  \n",
      "116            25.0     100.83   Clear  \n",
      "117            25.0     100.83   Clear  \n",
      "...             ...        ...     ...  \n",
      "8646           25.0     102.47   Clear  \n",
      "8698           24.1     101.27   Clear  \n",
      "8713           25.0     101.31   Clear  \n",
      "8714           25.0     101.33   Clear  \n",
      "8756           25.0     101.52   Clear  \n",
      "\n",
      "[1326 rows x 8 columns]\n"
     ]
    }
   ],
   "source": [
    "clear_weather = df[df['Weather'] == 'Clear']\n",
    "print(\"Records with clear weather:\\n\", clear_weather)"
   ]
  },
  {
   "cell_type": "code",
   "execution_count": 161,
   "id": "a72c1f8d-f463-48a6-9f48-3c9f93bfbbad",
   "metadata": {},
   "outputs": [
    {
     "name": "stdout",
     "output_type": "stream",
     "text": [
      "Times when wind speed was 4 km/h =  474\n"
     ]
    }
   ],
   "source": [
    "count_wind_speed_4 = len(df[df['Wind Speed_km/h'] == 4])\n",
    "print('Times when wind speed was 4 km/h = ', count_wind_speed_4)"
   ]
  },
  {
   "cell_type": "code",
   "execution_count": 162,
   "id": "4a38cfd8-54c0-4879-96c0-0a29752a4ceb",
   "metadata": {},
   "outputs": [
    {
     "name": "stdout",
     "output_type": "stream",
     "text": [
      "False\n"
     ]
    }
   ],
   "source": [
    "has_null_values = df.isnull().values.any()\n",
    "print(has_null_values)"
   ]
  },
  {
   "cell_type": "code",
   "execution_count": 163,
   "id": "3b1d8d05-428a-4d27-a856-738df29abd9b",
   "metadata": {},
   "outputs": [
    {
     "name": "stdout",
     "output_type": "stream",
     "text": [
      "Number of NULL values in the dataset = 0\n"
     ]
    }
   ],
   "source": [
    "null_values = df.isnull().sum().sum()\n",
    "print('Number of NULL values in the dataset =', null_values)"
   ]
  },
  {
   "cell_type": "code",
   "execution_count": 164,
   "id": "9b804c54-cbf9-4668-9986-3fca3f58199a",
   "metadata": {},
   "outputs": [
    {
     "name": "stdout",
     "output_type": "stream",
     "text": [
      "Renamed columns:\n",
      " Index(['Date/Time', 'Temp_C', 'Dew Point Temp_C', 'Rel Hum_%',\n",
      "       'Wind Speed_km/h', 'Visibility_km', 'Press_kPa', 'Weather_Condition'],\n",
      "      dtype='object')\n"
     ]
    }
   ],
   "source": [
    "df.rename(columns={'Weather': 'Weather_Condition'}, inplace=True)\n",
    "print(\"Renamed columns:\\n\", df.columns)"
   ]
  },
  {
   "cell_type": "code",
   "execution_count": 165,
   "id": "acfd3c19-f460-4c97-9650-e9fd55cc27cd",
   "metadata": {},
   "outputs": [
    {
     "name": "stdout",
     "output_type": "stream",
     "text": [
      "Mean visibility of the dataset =  27.664446721311478\n"
     ]
    }
   ],
   "source": [
    "mean_visibility = df['Visibility_km'].mean()\n",
    "print(\"Mean visibility of the dataset = \" , mean_visibility)"
   ]
  },
  {
   "cell_type": "code",
   "execution_count": 166,
   "id": "662967ff-110b-4949-89f9-02228515bc7d",
   "metadata": {},
   "outputs": [
    {
     "name": "stdout",
     "output_type": "stream",
     "text": [
      "Number of records with wind speed > 24 km/h and visibility = 25 km: 308\n"
     ]
    }
   ],
   "source": [
    "specific_conditions_count = df[(df['Wind Speed_km/h'] > 24) & (df['Visibility_km'] == 25)].shape[0]\n",
    "print(\"Number of records with wind speed > 24 km/h and visibility = 25 km:\", specific_conditions_count)"
   ]
  },
  {
   "cell_type": "code",
   "execution_count": 167,
   "id": "b53a3dae-e797-4bf8-810c-a4fdfefa30c2",
   "metadata": {},
   "outputs": [
    {
     "data": {
      "text/html": [
       "<div>\n",
       "<style scoped>\n",
       "    .dataframe tbody tr th:only-of-type {\n",
       "        vertical-align: middle;\n",
       "    }\n",
       "\n",
       "    .dataframe tbody tr th {\n",
       "        vertical-align: top;\n",
       "    }\n",
       "\n",
       "    .dataframe thead th {\n",
       "        text-align: right;\n",
       "    }\n",
       "</style>\n",
       "<table border=\"1\" class=\"dataframe\">\n",
       "  <thead>\n",
       "    <tr style=\"text-align: right;\">\n",
       "      <th></th>\n",
       "      <th>Temp_C</th>\n",
       "      <th>Dew Point Temp_C</th>\n",
       "      <th>Rel Hum_%</th>\n",
       "      <th>Wind Speed_km/h</th>\n",
       "      <th>Visibility_km</th>\n",
       "      <th>Press_kPa</th>\n",
       "    </tr>\n",
       "  </thead>\n",
       "  <tbody>\n",
       "    <tr>\n",
       "      <th>count</th>\n",
       "      <td>8784.000000</td>\n",
       "      <td>8784.000000</td>\n",
       "      <td>8784.000000</td>\n",
       "      <td>8784.000000</td>\n",
       "      <td>8784.000000</td>\n",
       "      <td>8784.000000</td>\n",
       "    </tr>\n",
       "    <tr>\n",
       "      <th>mean</th>\n",
       "      <td>8.798144</td>\n",
       "      <td>2.555294</td>\n",
       "      <td>67.431694</td>\n",
       "      <td>14.945469</td>\n",
       "      <td>27.664447</td>\n",
       "      <td>101.051623</td>\n",
       "    </tr>\n",
       "    <tr>\n",
       "      <th>std</th>\n",
       "      <td>11.687883</td>\n",
       "      <td>10.883072</td>\n",
       "      <td>16.918881</td>\n",
       "      <td>8.688696</td>\n",
       "      <td>12.622688</td>\n",
       "      <td>0.844005</td>\n",
       "    </tr>\n",
       "    <tr>\n",
       "      <th>min</th>\n",
       "      <td>-23.300000</td>\n",
       "      <td>-28.500000</td>\n",
       "      <td>18.000000</td>\n",
       "      <td>0.000000</td>\n",
       "      <td>0.200000</td>\n",
       "      <td>97.520000</td>\n",
       "    </tr>\n",
       "    <tr>\n",
       "      <th>25%</th>\n",
       "      <td>0.100000</td>\n",
       "      <td>-5.900000</td>\n",
       "      <td>56.000000</td>\n",
       "      <td>9.000000</td>\n",
       "      <td>24.100000</td>\n",
       "      <td>100.560000</td>\n",
       "    </tr>\n",
       "    <tr>\n",
       "      <th>50%</th>\n",
       "      <td>9.300000</td>\n",
       "      <td>3.300000</td>\n",
       "      <td>68.000000</td>\n",
       "      <td>13.000000</td>\n",
       "      <td>25.000000</td>\n",
       "      <td>101.070000</td>\n",
       "    </tr>\n",
       "    <tr>\n",
       "      <th>75%</th>\n",
       "      <td>18.800000</td>\n",
       "      <td>11.800000</td>\n",
       "      <td>81.000000</td>\n",
       "      <td>20.000000</td>\n",
       "      <td>25.000000</td>\n",
       "      <td>101.590000</td>\n",
       "    </tr>\n",
       "    <tr>\n",
       "      <th>max</th>\n",
       "      <td>33.000000</td>\n",
       "      <td>24.400000</td>\n",
       "      <td>100.000000</td>\n",
       "      <td>83.000000</td>\n",
       "      <td>48.300000</td>\n",
       "      <td>103.650000</td>\n",
       "    </tr>\n",
       "  </tbody>\n",
       "</table>\n",
       "</div>"
      ],
      "text/plain": [
       "            Temp_C  Dew Point Temp_C    Rel Hum_%  Wind Speed_km/h  \\\n",
       "count  8784.000000       8784.000000  8784.000000      8784.000000   \n",
       "mean      8.798144          2.555294    67.431694        14.945469   \n",
       "std      11.687883         10.883072    16.918881         8.688696   \n",
       "min     -23.300000        -28.500000    18.000000         0.000000   \n",
       "25%       0.100000         -5.900000    56.000000         9.000000   \n",
       "50%       9.300000          3.300000    68.000000        13.000000   \n",
       "75%      18.800000         11.800000    81.000000        20.000000   \n",
       "max      33.000000         24.400000   100.000000        83.000000   \n",
       "\n",
       "       Visibility_km    Press_kPa  \n",
       "count    8784.000000  8784.000000  \n",
       "mean       27.664447   101.051623  \n",
       "std        12.622688     0.844005  \n",
       "min         0.200000    97.520000  \n",
       "25%        24.100000   100.560000  \n",
       "50%        25.000000   101.070000  \n",
       "75%        25.000000   101.590000  \n",
       "max        48.300000   103.650000  "
      ]
     },
     "execution_count": 167,
     "metadata": {},
     "output_type": "execute_result"
    }
   ],
   "source": [
    "df.describe() "
   ]
  },
  {
   "cell_type": "code",
   "execution_count": 168,
   "id": "cb28718b-c920-4953-81c0-74597a8e1b60",
   "metadata": {},
   "outputs": [
    {
     "name": "stdout",
     "output_type": "stream",
     "text": [
      "Instances where weather is clear and relative humidity > 50, or visibility > 40:\n",
      "              Date/Time  Temp_C  Dew Point Temp_C  Rel Hum_%  Wind Speed_km/h  \\\n",
      "106     1/5/2012 10:00    -6.0             -10.0         73               17   \n",
      "107     1/5/2012 11:00    -5.6             -10.2         70               22   \n",
      "108     1/5/2012 12:00    -4.7              -9.6         69               20   \n",
      "109     1/5/2012 13:00    -4.4              -9.7         66               26   \n",
      "110     1/5/2012 14:00    -5.1             -10.7         65               22   \n",
      "...                ...     ...               ...        ...              ...   \n",
      "8749  12/30/2012 13:00   -12.4             -16.2         73               37   \n",
      "8750  12/30/2012 14:00   -11.8             -16.1         70               37   \n",
      "8751  12/30/2012 15:00   -11.3             -15.6         70               32   \n",
      "8752  12/30/2012 16:00   -11.4             -15.5         72               26   \n",
      "8756  12/30/2012 20:00   -13.8             -16.5         80               24   \n",
      "\n",
      "      Visibility_km  Press_kPa Weather_Condition  \n",
      "106            48.3     100.45      Mainly Clear  \n",
      "107            48.3     100.41      Mainly Clear  \n",
      "108            48.3     100.38      Mainly Clear  \n",
      "109            48.3     100.40      Mainly Clear  \n",
      "110            48.3     100.46      Mainly Clear  \n",
      "...             ...        ...               ...  \n",
      "8749           48.3     100.92     Mostly Cloudy  \n",
      "8750           48.3     100.96      Mainly Clear  \n",
      "8751           48.3     101.05      Mainly Clear  \n",
      "8752           48.3     101.15      Mainly Clear  \n",
      "8756           25.0     101.52             Clear  \n",
      "\n",
      "[2921 rows x 8 columns]\n"
     ]
    }
   ],
   "source": [
    "specific_conditions = df[(df['Weather_Condition'] == 'Clear') & (df['Rel Hum_%'] > 50) | (df['Visibility_km'] > 40)]\n",
    "print(\"Instances where weather is clear and relative humidity > 50, or visibility > 40:\\n\", specific_conditions)"
   ]
  },
  {
   "cell_type": "code",
   "execution_count": 185,
   "id": "dc3a9e0f-1f0f-404e-b611-97e07b898a50",
   "metadata": {},
   "outputs": [
    {
     "name": "stdout",
     "output_type": "stream",
     "text": [
      "Number of weather conditions that include snow =  583\n"
     ]
    }
   ],
   "source": [
    "snow_conditions_count = df['Weather_Condition'].str.contains('Snow').sum()\n",
    "print(\"Number of weather conditions that include snow = \", snow_conditions_count)"
   ]
  },
  {
   "cell_type": "code",
   "execution_count": null,
   "id": "7db068f0-103d-43e9-813e-fe79d2e3d081",
   "metadata": {},
   "outputs": [],
   "source": []
  }
 ],
 "metadata": {
  "kernelspec": {
   "display_name": "Python 3 (ipykernel)",
   "language": "python",
   "name": "python3"
  },
  "language_info": {
   "codemirror_mode": {
    "name": "ipython",
    "version": 3
   },
   "file_extension": ".py",
   "mimetype": "text/x-python",
   "name": "python",
   "nbconvert_exporter": "python",
   "pygments_lexer": "ipython3",
   "version": "3.12.4"
  }
 },
 "nbformat": 4,
 "nbformat_minor": 5
}
